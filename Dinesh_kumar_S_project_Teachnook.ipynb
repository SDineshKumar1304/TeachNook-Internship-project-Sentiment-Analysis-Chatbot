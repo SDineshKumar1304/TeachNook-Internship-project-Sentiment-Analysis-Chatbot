{
  "cells": [
    {
      "cell_type": "markdown",
      "metadata": {
        "id": "view-in-github",
        "colab_type": "text"
      },
      "source": [
        "<a href=\"https://colab.research.google.com/github/SDineshKumar1304/TeachNook-Internship-project-Sentiment-Analysis-Chatbot/blob/main/Dinesh_kumar_S_project_Teachnook.ipynb\" target=\"_parent\"><img src=\"https://colab.research.google.com/assets/colab-badge.svg\" alt=\"Open In Colab\"/></a>"
      ]
    },
    {
      "cell_type": "markdown",
      "metadata": {
        "id": "n7wEwvkDBjv2"
      },
      "source": [
        "#               # **TeachNook Project July Batch** -by S.Dinesh Kumar"
      ]
    },
    {
      "cell_type": "markdown",
      "metadata": {
        "id": "tA7p-_fhf_eA"
      },
      "source": [
        "Question:\n",
        "Develop a chatbot equipped with sentiment analysis capabilities. The chatbot will analyze the\n",
        "sentiment of the user's input. The sentiment analysis component will determine whether the\n",
        "user's message expresses a positive, negative, or neutral sentiment.\n",
        "This project combines natural language processing (NLP) techniques, machine learning\n",
        "algorithms To Find the Sentiment Of User?"
      ]
    },
    {
      "cell_type": "markdown",
      "metadata": {
        "id": "yc5h0OT1BLZM"
      },
      "source": [
        "**Importing the required Libraries from python**"
      ]
    },
    {
      "cell_type": "code",
      "execution_count": null,
      "metadata": {
        "id": "Bb_z3GhPfxj8"
      },
      "outputs": [],
      "source": [
        "import nltk\n",
        "from nltk.sentiment import SentimentIntensityAnalyzer\n",
        "from sklearn.model_selection import train_test_split\n",
        "from sklearn.feature_extraction.text import TfidfVectorizer\n",
        "from sklearn.svm import SVC\n",
        "from sklearn.metrics import accuracy_score"
      ]
    },
    {
      "cell_type": "markdown",
      "metadata": {
        "id": "YDThdII8gVmm"
      },
      "source": [
        "**Downloading the Vader_lexion and Sample Data is Extended for Training the Model**"
      ]
    },
    {
      "cell_type": "code",
      "execution_count": null,
      "metadata": {
        "id": "ibuiC21zf9ze",
        "colab": {
          "base_uri": "https://localhost:8080/"
        },
        "outputId": "22f8099a-86d1-4aa6-c94c-79e810cc14b9"
      },
      "outputs": [
        {
          "output_type": "stream",
          "name": "stderr",
          "text": [
            "[nltk_data] Downloading package vader_lexicon to /root/nltk_data...\n",
            "[nltk_data]   Package vader_lexicon is already up-to-date!\n"
          ]
        }
      ],
      "source": [
        "# Download the required resource\n",
        "nltk.download('vader_lexicon')\n",
        "data = [\n",
        "    (\"I love this product!\", \"positive\"),\n",
        "    (\"This is great.\", \"positive\"),\n",
        "    (\"I don't like this.\", \"negative\"),\n",
        "    (\"This is terrible.\", \"negative\"),\n",
        "    (\"It's okay.\", \"neutral\"),\n",
        "    (\"Not bad.\", \"neutral\"),\n",
        "    (\"I'm thrilled with the results.\", \"positive\"),\n",
        "    (\"The service exceeded my expectations.\", \"positive\"),\n",
        "    (\"I'm really disappointed with the quality.\", \"negative\"),\n",
        "    (\"Worst purchase ever.\", \"negative\"),\n",
        "    (\"The movie was fantastic!\", \"positive\"),\n",
        "    (\"I can't recommend it enough.\", \"positive\"),\n",
        "    (\"I was expecting more from this book.\", \"neutral\"),\n",
        "    (\"The food was mediocre.\", \"neutral\"),\n",
        "\n",
        "]\n",
        "\n",
        "# Extend the dataset with more examples\n",
        "for _ in range(50):\n",
        "    data.append((\"This is great!\", \"positive\"))\n",
        "    data.append((\"I'm so happy with this service.\", \"positive\"))\n",
        "    data.append((\"I hate dealing with this company.\", \"negative\"))\n",
        "    data.append((\"This is the worst experience.\", \"negative\"))\n",
        "    data.append((\"It's neither good nor bad.\", \"neutral\"))\n",
        "    data.append((\"I feel indifferent about this product.\", \"neutral\"))"
      ]
    },
    {
      "cell_type": "markdown",
      "metadata": {
        "id": "Wz3PEBCzgnHD"
      },
      "source": [
        "**Training the model using the above data**"
      ]
    },
    {
      "cell_type": "code",
      "execution_count": null,
      "metadata": {
        "id": "tsyMgYc9gcDA",
        "colab": {
          "base_uri": "https://localhost:8080/",
          "height": 126
        },
        "outputId": "bee66b50-14b6-4c1b-f806-62dac0ed339e"
      },
      "outputs": [
        {
          "output_type": "execute_result",
          "data": {
            "text/plain": [
              "Pipeline(steps=[('tfidfvectorizer', TfidfVectorizer()),\n",
              "                ('svc', SVC(kernel='linear'))])"
            ],
            "text/html": [
              "<style>#sk-container-id-2 {color: black;background-color: white;}#sk-container-id-2 pre{padding: 0;}#sk-container-id-2 div.sk-toggleable {background-color: white;}#sk-container-id-2 label.sk-toggleable__label {cursor: pointer;display: block;width: 100%;margin-bottom: 0;padding: 0.3em;box-sizing: border-box;text-align: center;}#sk-container-id-2 label.sk-toggleable__label-arrow:before {content: \"▸\";float: left;margin-right: 0.25em;color: #696969;}#sk-container-id-2 label.sk-toggleable__label-arrow:hover:before {color: black;}#sk-container-id-2 div.sk-estimator:hover label.sk-toggleable__label-arrow:before {color: black;}#sk-container-id-2 div.sk-toggleable__content {max-height: 0;max-width: 0;overflow: hidden;text-align: left;background-color: #f0f8ff;}#sk-container-id-2 div.sk-toggleable__content pre {margin: 0.2em;color: black;border-radius: 0.25em;background-color: #f0f8ff;}#sk-container-id-2 input.sk-toggleable__control:checked~div.sk-toggleable__content {max-height: 200px;max-width: 100%;overflow: auto;}#sk-container-id-2 input.sk-toggleable__control:checked~label.sk-toggleable__label-arrow:before {content: \"▾\";}#sk-container-id-2 div.sk-estimator input.sk-toggleable__control:checked~label.sk-toggleable__label {background-color: #d4ebff;}#sk-container-id-2 div.sk-label input.sk-toggleable__control:checked~label.sk-toggleable__label {background-color: #d4ebff;}#sk-container-id-2 input.sk-hidden--visually {border: 0;clip: rect(1px 1px 1px 1px);clip: rect(1px, 1px, 1px, 1px);height: 1px;margin: -1px;overflow: hidden;padding: 0;position: absolute;width: 1px;}#sk-container-id-2 div.sk-estimator {font-family: monospace;background-color: #f0f8ff;border: 1px dotted black;border-radius: 0.25em;box-sizing: border-box;margin-bottom: 0.5em;}#sk-container-id-2 div.sk-estimator:hover {background-color: #d4ebff;}#sk-container-id-2 div.sk-parallel-item::after {content: \"\";width: 100%;border-bottom: 1px solid gray;flex-grow: 1;}#sk-container-id-2 div.sk-label:hover label.sk-toggleable__label {background-color: #d4ebff;}#sk-container-id-2 div.sk-serial::before {content: \"\";position: absolute;border-left: 1px solid gray;box-sizing: border-box;top: 0;bottom: 0;left: 50%;z-index: 0;}#sk-container-id-2 div.sk-serial {display: flex;flex-direction: column;align-items: center;background-color: white;padding-right: 0.2em;padding-left: 0.2em;position: relative;}#sk-container-id-2 div.sk-item {position: relative;z-index: 1;}#sk-container-id-2 div.sk-parallel {display: flex;align-items: stretch;justify-content: center;background-color: white;position: relative;}#sk-container-id-2 div.sk-item::before, #sk-container-id-2 div.sk-parallel-item::before {content: \"\";position: absolute;border-left: 1px solid gray;box-sizing: border-box;top: 0;bottom: 0;left: 50%;z-index: -1;}#sk-container-id-2 div.sk-parallel-item {display: flex;flex-direction: column;z-index: 1;position: relative;background-color: white;}#sk-container-id-2 div.sk-parallel-item:first-child::after {align-self: flex-end;width: 50%;}#sk-container-id-2 div.sk-parallel-item:last-child::after {align-self: flex-start;width: 50%;}#sk-container-id-2 div.sk-parallel-item:only-child::after {width: 0;}#sk-container-id-2 div.sk-dashed-wrapped {border: 1px dashed gray;margin: 0 0.4em 0.5em 0.4em;box-sizing: border-box;padding-bottom: 0.4em;background-color: white;}#sk-container-id-2 div.sk-label label {font-family: monospace;font-weight: bold;display: inline-block;line-height: 1.2em;}#sk-container-id-2 div.sk-label-container {text-align: center;}#sk-container-id-2 div.sk-container {/* jupyter's `normalize.less` sets `[hidden] { display: none; }` but bootstrap.min.css set `[hidden] { display: none !important; }` so we also need the `!important` here to be able to override the default hidden behavior on the sphinx rendered scikit-learn.org. See: https://github.com/scikit-learn/scikit-learn/issues/21755 */display: inline-block !important;position: relative;}#sk-container-id-2 div.sk-text-repr-fallback {display: none;}</style><div id=\"sk-container-id-2\" class=\"sk-top-container\"><div class=\"sk-text-repr-fallback\"><pre>Pipeline(steps=[(&#x27;tfidfvectorizer&#x27;, TfidfVectorizer()),\n",
              "                (&#x27;svc&#x27;, SVC(kernel=&#x27;linear&#x27;))])</pre><b>In a Jupyter environment, please rerun this cell to show the HTML representation or trust the notebook. <br />On GitHub, the HTML representation is unable to render, please try loading this page with nbviewer.org.</b></div><div class=\"sk-container\" hidden><div class=\"sk-item sk-dashed-wrapped\"><div class=\"sk-label-container\"><div class=\"sk-label sk-toggleable\"><input class=\"sk-toggleable__control sk-hidden--visually\" id=\"sk-estimator-id-4\" type=\"checkbox\" ><label for=\"sk-estimator-id-4\" class=\"sk-toggleable__label sk-toggleable__label-arrow\">Pipeline</label><div class=\"sk-toggleable__content\"><pre>Pipeline(steps=[(&#x27;tfidfvectorizer&#x27;, TfidfVectorizer()),\n",
              "                (&#x27;svc&#x27;, SVC(kernel=&#x27;linear&#x27;))])</pre></div></div></div><div class=\"sk-serial\"><div class=\"sk-item\"><div class=\"sk-estimator sk-toggleable\"><input class=\"sk-toggleable__control sk-hidden--visually\" id=\"sk-estimator-id-5\" type=\"checkbox\" ><label for=\"sk-estimator-id-5\" class=\"sk-toggleable__label sk-toggleable__label-arrow\">TfidfVectorizer</label><div class=\"sk-toggleable__content\"><pre>TfidfVectorizer()</pre></div></div></div><div class=\"sk-item\"><div class=\"sk-estimator sk-toggleable\"><input class=\"sk-toggleable__control sk-hidden--visually\" id=\"sk-estimator-id-6\" type=\"checkbox\" ><label for=\"sk-estimator-id-6\" class=\"sk-toggleable__label sk-toggleable__label-arrow\">SVC</label><div class=\"sk-toggleable__content\"><pre>SVC(kernel=&#x27;linear&#x27;)</pre></div></div></div></div></div></div></div>"
            ]
          },
          "metadata": {},
          "execution_count": 23
        }
      ],
      "source": [
        "# Split the dataset into training and testing sets\n",
        "train_data, test_data = train_test_split(data, test_size=0.2, random_state=42)\n",
        "\n",
        "# Training the sentiment analysis model\n",
        "model = make_pipeline(\n",
        "    TfidfVectorizer(),\n",
        "    SVC(kernel='linear')\n",
        ")\n",
        "\n",
        "train_texts, train_labels = zip(*train_data)\n",
        "model.fit(train_texts, train_labels)"
      ]
    },
    {
      "cell_type": "markdown",
      "metadata": {
        "id": "17c9y2p0g9sc"
      },
      "source": [
        "**Evaluating the Model**"
      ]
    },
    {
      "cell_type": "code",
      "execution_count": null,
      "metadata": {
        "colab": {
          "base_uri": "https://localhost:8080/"
        },
        "id": "1zaSBovrg0WN",
        "outputId": "8a528fb4-c80a-4f28-ec3d-199f3823c2a4"
      },
      "outputs": [
        {
          "output_type": "stream",
          "name": "stdout",
          "text": [
            "Model Accuracy: 98.41%\n"
          ]
        }
      ],
      "source": [
        "# Evaluate the model\n",
        "test_texts, test_labels = zip(*test_data)\n",
        "predictions = model.predict(test_texts)\n",
        "accuracy = accuracy_score(test_labels, predictions)\n",
        "print(f\"Model Accuracy: {accuracy * 100:.2f}%\")"
      ]
    },
    {
      "cell_type": "markdown",
      "metadata": {
        "id": "43M2cBUwhOwL"
      },
      "source": [
        "**Defining the Function for Analyzing the sentiment**"
      ]
    },
    {
      "cell_type": "code",
      "execution_count": null,
      "metadata": {
        "id": "kIrP6bxQg0Yf"
      },
      "outputs": [],
      "source": [
        "# Sentiment analysis using NLTK\n",
        "def analyze_sentiment(message):\n",
        "    sid = SentimentIntensityAnalyzer()\n",
        "    sentiment_score = sid.polarity_scores(message)[\"compound\"]\n",
        "\n",
        "    if sentiment_score >= 0.05:\n",
        "        return \"positive\"\n",
        "    elif sentiment_score <= -0.05:\n",
        "        return \"negative\"\n",
        "    else:\n",
        "        return \"neutral\""
      ]
    },
    {
      "cell_type": "markdown",
      "metadata": {
        "id": "ABGElU83haq9"
      },
      "source": [
        "**Defining the Sentiment Chatbot Response function**"
      ]
    },
    {
      "cell_type": "code",
      "execution_count": null,
      "metadata": {
        "id": "0e1x0edMg0ax",
        "colab": {
          "base_uri": "https://localhost:8080/"
        },
        "outputId": "7ded1fc6-429a-4ad1-c477-3159f4b670d7"
      },
      "outputs": [
        {
          "output_type": "stream",
          "name": "stdout",
          "text": [
            "User: i not feeling well\n",
            "Chatbot: Sentiment: Negative\n",
            "Suggestions: ['Try taking a relaxing walk to clear your mind.', 'Maybe indulge in a favorite comfort food.', 'Consider talking to a friend or loved one about it.', 'Write down your feelings in a journal.']\n"
          ]
        }
      ],
      "source": [
        "def chatbot_response(sentiment):\n",
        "    positive_suggestions = [\n",
        "        \"Why not celebrate by treating yourself?\",\n",
        "        \"Consider spending some time outdoors.\",\n",
        "        \"You could explore a new hobby or activity.\",\n",
        "        \"Call a friend and share your positive energy.\"\n",
        "    ]\n",
        "\n",
        "    negative_suggestions = [\n",
        "        \"Try taking a relaxing walk to clear your mind.\",\n",
        "        \"Maybe indulge in a favorite comfort food.\",\n",
        "        \"Consider talking to a friend or loved one about it.\",\n",
        "        \"Write down your feelings in a journal.\"\n",
        "    ]\n",
        "\n",
        "    neutral_suggestions = [\n",
        "        \"You could try a new book or movie to lift your spirits.\",\n",
        "        \"Engage in a mindfulness exercise to center yourself.\",\n",
        "        \"Plan a small outing to break the routine.\",\n",
        "        \"Take a moment to reflect on your day and find the positives.\"\n",
        "    ]\n",
        "\n",
        "    if sentiment == \"positive\":\n",
        "        return positive_suggestions\n",
        "    elif sentiment == \"negative\":\n",
        "        return negative_suggestions\n",
        "    else:\n",
        "        return neutral_suggestions\n",
        "\n",
        "\n",
        "# Example usage\n",
        "user_input = input(\"User: \")\n",
        "response = chatbot(user_input)\n",
        "print(f\"Chatbot: {response}\")"
      ]
    },
    {
      "cell_type": "markdown",
      "source": [
        "**Defining the ChatBot Function**"
      ],
      "metadata": {
        "id": "xDq18tT6oclg"
      }
    },
    {
      "cell_type": "code",
      "source": [
        "# Chatbot function\n",
        "def chatbot(user_input):\n",
        "    sentiment = analyze_sentiment(user_input)\n",
        "    response = chatbot_response(sentiment)\n",
        "    return f\"Sentiment: {sentiment.capitalize()}\\nSuggestions: {response}\"\n"
      ],
      "metadata": {
        "id": "rrPp8mnhn0Xz"
      },
      "execution_count": null,
      "outputs": []
    },
    {
      "cell_type": "markdown",
      "source": [
        "**Results**"
      ],
      "metadata": {
        "id": "eGObdomxovvr"
      }
    },
    {
      "cell_type": "code",
      "source": [
        "while True:\n",
        "    user_input = input(\"You: \")\n",
        "    if user_input.lower() == 'end':\n",
        "        print(\"Chatbot: Thank you! 😊\")\n",
        "        break\n",
        "\n",
        "    response = chatbot(user_input)\n",
        "    print(f\"Chatbot: {response}\")\n"
      ],
      "metadata": {
        "colab": {
          "base_uri": "https://localhost:8080/"
        },
        "id": "nOH4fNuyokN9",
        "outputId": "f4566d53-d571-409a-ec86-61c266590e7a"
      },
      "execution_count": null,
      "outputs": [
        {
          "output_type": "stream",
          "name": "stdout",
          "text": [
            "You: i need you\n",
            "Chatbot: Sentiment: Neutral\n",
            "Suggestions: ['You could try a new book or movie to lift your spirits.', 'Engage in a mindfulness exercise to center yourself.', 'Plan a small outing to break the routine.', 'Take a moment to reflect on your day and find the positives.']\n",
            "You: i like icecream\n",
            "Chatbot: Sentiment: Positive\n",
            "Suggestions: ['Why not celebrate by treating yourself?', 'Consider spending some time outdoors.', 'You could explore a new hobby or activity.', 'Call a friend and share your positive energy.']\n",
            "You: end\n",
            "Chatbot: Thank you! 😊\n"
          ]
        }
      ]
    },
    {
      "cell_type": "code",
      "source": [],
      "metadata": {
        "id": "cbuz3ibzomoQ"
      },
      "execution_count": null,
      "outputs": []
    }
  ],
  "metadata": {
    "colab": {
      "provenance": [],
      "authorship_tag": "ABX9TyOPdJ7SE4bZ6UwfHimJ29Wp",
      "include_colab_link": true
    },
    "kernelspec": {
      "display_name": "Python 3",
      "name": "python3"
    },
    "language_info": {
      "name": "python"
    }
  },
  "nbformat": 4,
  "nbformat_minor": 0
}