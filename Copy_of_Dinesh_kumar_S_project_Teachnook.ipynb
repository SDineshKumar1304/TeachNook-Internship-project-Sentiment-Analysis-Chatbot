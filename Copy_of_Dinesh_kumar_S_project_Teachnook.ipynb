{
  "nbformat": 4,
  "nbformat_minor": 0,
  "metadata": {
    "colab": {
      "provenance": [],
      "authorship_tag": "ABX9TyNF+g49lukEUbIEKb5kgMlz",
      "include_colab_link": true
    },
    "kernelspec": {
      "name": "python3",
      "display_name": "Python 3"
    },
    "language_info": {
      "name": "python"
    }
  },
  "cells": [
    {
      "cell_type": "markdown",
      "metadata": {
        "id": "view-in-github",
        "colab_type": "text"
      },
      "source": [
        "<a href=\"https://colab.research.google.com/github/SDineshKumar1304/Dineshkumars/blob/main/Copy_of_Dinesh_kumar_S_project_Teachnook.ipynb\" target=\"_parent\"><img src=\"https://colab.research.google.com/assets/colab-badge.svg\" alt=\"Open In Colab\"/></a>"
      ]
    },
    {
      "cell_type": "markdown",
      "source": [
        "#               # **TeachNook Project July Batch** -by S.Dinesh Kumar"
      ],
      "metadata": {
        "id": "n7wEwvkDBjv2"
      }
    },
    {
      "cell_type": "markdown",
      "source": [
        "Question:\n",
        "Develop a chatbot equipped with sentiment analysis capabilities. The chatbot will analyze the\n",
        "sentiment of the user's input. The sentiment analysis component will determine whether the\n",
        "user's message expresses a positive, negative, or neutral sentiment.\n",
        "This project combines natural language processing (NLP) techniques, machine learning\n",
        "algorithms To Find the Sentiment Of User?"
      ],
      "metadata": {
        "id": "tA7p-_fhf_eA"
      }
    },
    {
      "cell_type": "markdown",
      "source": [
        "**Importing the required Libraries from python**"
      ],
      "metadata": {
        "id": "yc5h0OT1BLZM"
      }
    },
    {
      "cell_type": "code",
      "execution_count": null,
      "metadata": {
        "id": "Bb_z3GhPfxj8"
      },
      "outputs": [],
      "source": [
        "import numpy as np\n",
        "from sklearn.feature_extraction.text import CountVectorizer\n",
        "from sklearn.tree import DecisionTreeClassifier\n",
        "from textblob import TextBlob"
      ]
    },
    {
      "cell_type": "markdown",
      "source": [
        "**Training the Data with some Examples**"
      ],
      "metadata": {
        "id": "YDThdII8gVmm"
      }
    },
    {
      "cell_type": "code",
      "source": [
        "training_data = [\n",
        "    (\"I love this product!\", \"positive\"),\n",
        "    (\"This is terrible.\", \"negative\"),\n",
        "    (\"It's okay, not great.\", \"neutral\"),\n",
        "    (\"I'm enjoying my time.\", \"positive\"),\n",
        "    (\"This is a waste of money.\", \"negative\"),\n",
        "    (\"I have mixed feelings.\", \"neutral\")\n",
        "]"
      ],
      "metadata": {
        "id": "ibuiC21zf9ze"
      },
      "execution_count": null,
      "outputs": []
    },
    {
      "cell_type": "markdown",
      "source": [
        "**Sentiments from Messages are separated into texts and sentiments**"
      ],
      "metadata": {
        "id": "Wz3PEBCzgnHD"
      }
    },
    {
      "cell_type": "code",
      "source": [
        "texts, sentiments = zip(*training_data)\n",
        "vectorizer = CountVectorizer()\n",
        "X = vectorizer.fit_transform(texts)\n",
        "y = np.array(sentiments)"
      ],
      "metadata": {
        "id": "tsyMgYc9gcDA"
      },
      "execution_count": null,
      "outputs": []
    },
    {
      "cell_type": "markdown",
      "source": [
        "**DecisionTreeClassifier is created and trained using the feature vectors (X) and sentiment labels (y).**"
      ],
      "metadata": {
        "id": "17c9y2p0g9sc"
      }
    },
    {
      "cell_type": "code",
      "source": [
        "classifier = DecisionTreeClassifier()\n",
        "classifier.fit(X, y)"
      ],
      "metadata": {
        "colab": {
          "base_uri": "https://localhost:8080/",
          "height": 75
        },
        "id": "1zaSBovrg0WN",
        "outputId": "a322510d-02d2-431a-a789-1b305142c0c3"
      },
      "execution_count": null,
      "outputs": [
        {
          "output_type": "execute_result",
          "data": {
            "text/plain": [
              "DecisionTreeClassifier()"
            ],
            "text/html": [
              "<style>#sk-container-id-1 {color: black;background-color: white;}#sk-container-id-1 pre{padding: 0;}#sk-container-id-1 div.sk-toggleable {background-color: white;}#sk-container-id-1 label.sk-toggleable__label {cursor: pointer;display: block;width: 100%;margin-bottom: 0;padding: 0.3em;box-sizing: border-box;text-align: center;}#sk-container-id-1 label.sk-toggleable__label-arrow:before {content: \"▸\";float: left;margin-right: 0.25em;color: #696969;}#sk-container-id-1 label.sk-toggleable__label-arrow:hover:before {color: black;}#sk-container-id-1 div.sk-estimator:hover label.sk-toggleable__label-arrow:before {color: black;}#sk-container-id-1 div.sk-toggleable__content {max-height: 0;max-width: 0;overflow: hidden;text-align: left;background-color: #f0f8ff;}#sk-container-id-1 div.sk-toggleable__content pre {margin: 0.2em;color: black;border-radius: 0.25em;background-color: #f0f8ff;}#sk-container-id-1 input.sk-toggleable__control:checked~div.sk-toggleable__content {max-height: 200px;max-width: 100%;overflow: auto;}#sk-container-id-1 input.sk-toggleable__control:checked~label.sk-toggleable__label-arrow:before {content: \"▾\";}#sk-container-id-1 div.sk-estimator input.sk-toggleable__control:checked~label.sk-toggleable__label {background-color: #d4ebff;}#sk-container-id-1 div.sk-label input.sk-toggleable__control:checked~label.sk-toggleable__label {background-color: #d4ebff;}#sk-container-id-1 input.sk-hidden--visually {border: 0;clip: rect(1px 1px 1px 1px);clip: rect(1px, 1px, 1px, 1px);height: 1px;margin: -1px;overflow: hidden;padding: 0;position: absolute;width: 1px;}#sk-container-id-1 div.sk-estimator {font-family: monospace;background-color: #f0f8ff;border: 1px dotted black;border-radius: 0.25em;box-sizing: border-box;margin-bottom: 0.5em;}#sk-container-id-1 div.sk-estimator:hover {background-color: #d4ebff;}#sk-container-id-1 div.sk-parallel-item::after {content: \"\";width: 100%;border-bottom: 1px solid gray;flex-grow: 1;}#sk-container-id-1 div.sk-label:hover label.sk-toggleable__label {background-color: #d4ebff;}#sk-container-id-1 div.sk-serial::before {content: \"\";position: absolute;border-left: 1px solid gray;box-sizing: border-box;top: 0;bottom: 0;left: 50%;z-index: 0;}#sk-container-id-1 div.sk-serial {display: flex;flex-direction: column;align-items: center;background-color: white;padding-right: 0.2em;padding-left: 0.2em;position: relative;}#sk-container-id-1 div.sk-item {position: relative;z-index: 1;}#sk-container-id-1 div.sk-parallel {display: flex;align-items: stretch;justify-content: center;background-color: white;position: relative;}#sk-container-id-1 div.sk-item::before, #sk-container-id-1 div.sk-parallel-item::before {content: \"\";position: absolute;border-left: 1px solid gray;box-sizing: border-box;top: 0;bottom: 0;left: 50%;z-index: -1;}#sk-container-id-1 div.sk-parallel-item {display: flex;flex-direction: column;z-index: 1;position: relative;background-color: white;}#sk-container-id-1 div.sk-parallel-item:first-child::after {align-self: flex-end;width: 50%;}#sk-container-id-1 div.sk-parallel-item:last-child::after {align-self: flex-start;width: 50%;}#sk-container-id-1 div.sk-parallel-item:only-child::after {width: 0;}#sk-container-id-1 div.sk-dashed-wrapped {border: 1px dashed gray;margin: 0 0.4em 0.5em 0.4em;box-sizing: border-box;padding-bottom: 0.4em;background-color: white;}#sk-container-id-1 div.sk-label label {font-family: monospace;font-weight: bold;display: inline-block;line-height: 1.2em;}#sk-container-id-1 div.sk-label-container {text-align: center;}#sk-container-id-1 div.sk-container {/* jupyter's `normalize.less` sets `[hidden] { display: none; }` but bootstrap.min.css set `[hidden] { display: none !important; }` so we also need the `!important` here to be able to override the default hidden behavior on the sphinx rendered scikit-learn.org. See: https://github.com/scikit-learn/scikit-learn/issues/21755 */display: inline-block !important;position: relative;}#sk-container-id-1 div.sk-text-repr-fallback {display: none;}</style><div id=\"sk-container-id-1\" class=\"sk-top-container\"><div class=\"sk-text-repr-fallback\"><pre>DecisionTreeClassifier()</pre><b>In a Jupyter environment, please rerun this cell to show the HTML representation or trust the notebook. <br />On GitHub, the HTML representation is unable to render, please try loading this page with nbviewer.org.</b></div><div class=\"sk-container\" hidden><div class=\"sk-item\"><div class=\"sk-estimator sk-toggleable\"><input class=\"sk-toggleable__control sk-hidden--visually\" id=\"sk-estimator-id-1\" type=\"checkbox\" checked><label for=\"sk-estimator-id-1\" class=\"sk-toggleable__label sk-toggleable__label-arrow\">DecisionTreeClassifier</label><div class=\"sk-toggleable__content\"><pre>DecisionTreeClassifier()</pre></div></div></div></div></div>"
            ]
          },
          "metadata": {},
          "execution_count": 5
        }
      ]
    },
    {
      "cell_type": "markdown",
      "source": [
        "*** Analyzing the sentiment of the given user_input***"
      ],
      "metadata": {
        "id": "43M2cBUwhOwL"
      }
    },
    {
      "cell_type": "code",
      "source": [
        "def analyze_sentiment(user_input):\n",
        "    analysis = TextBlob(user_input)\n",
        "    if analysis.sentiment.polarity > 0:\n",
        "        return \"positive\"\n",
        "    elif analysis.sentiment.polarity < 0:\n",
        "        return \"negative\"\n",
        "    else:\n",
        "        return \"neutral\""
      ],
      "metadata": {
        "id": "kIrP6bxQg0Yf"
      },
      "execution_count": null,
      "outputs": []
    },
    {
      "cell_type": "markdown",
      "source": [
        "**Defining the Chatbot Response function**"
      ],
      "metadata": {
        "id": "ABGElU83haq9"
      }
    },
    {
      "cell_type": "code",
      "source": [
        "def chatbot_response(sentiment):\n",
        "    positive_suggestions = [\n",
        "        \"Why not celebrate by treating yourself?\",\n",
        "        \"Consider spending some time outdoors.\",\n",
        "        \"You could explore a new hobby or activity.\",\n",
        "        \"Call a friend and share your positive energy.\"\n",
        "    ]\n",
        "\n",
        "    negative_suggestions = [\n",
        "        \"Try taking a relaxing walk to clear your mind.\",\n",
        "        \"Maybe indulge in a favorite comfort food.\",\n",
        "        \"Consider talking to a friend or loved one about it.\",\n",
        "        \"Write down your feelings in a journal.\"\n",
        "    ]\n",
        "\n",
        "    neutral_suggestions = [\n",
        "        \"You could try a new book or movie to lift your spirits.\",\n",
        "        \"Engage in a mindfulness exercise to center yourself.\",\n",
        "        \"Plan a small outing to break the routine.\",\n",
        "        \"Take a moment to reflect on your day and find the positives.\"\n",
        "    ]\n",
        "\n",
        "    if sentiment == \"positive\":\n",
        "        return f\"That's wonderful! I'm glad you're feeling positive. Here are some suggestions to make you feeling more positve:\\n{np.random.choice(positive_suggestions)}\"\n",
        "    elif sentiment == \"negative\":\n",
        "        return f\"I'm sorry to hear that. Is there anything I can do to help? Here are some suggestions for you to feel better:\\n{np.random.choice(negative_suggestions)}\"\n",
        "    else:\n",
        "        return f\"I see. Your feelings are quite balanced. Here are some suggestions:\\n{np.random.choice(neutral_suggestions)}\""
      ],
      "metadata": {
        "id": "0e1x0edMg0ax"
      },
      "execution_count": null,
      "outputs": []
    },
    {
      "cell_type": "markdown",
      "source": [
        "**Results**"
      ],
      "metadata": {
        "id": "s5NSR2hQmI9E"
      }
    },
    {
      "cell_type": "code",
      "source": [
        "  while True:\n",
        "    user_input = input(\"You: \")\n",
        "\n",
        "    if user_input.lower() == 'end':\n",
        "        print(\"Chatbot: Thank you😊\")\n",
        "        break\n",
        "\n",
        "    user_sentiment = analyze_sentiment(user_input)\n",
        "    predicted_sentiment = classifier.predict(vectorizer.transform([user_input]))[0]\n",
        "\n",
        "    print(f\"Chatbot: Based on my sentiment analysis, your sentiment is {user_sentiment}.\")\n",
        "    print(f\"Chatbot: My classification thinks you're feeling {predicted_sentiment}.\")\n",
        "\n",
        "    print(f\"Chatbot: {chatbot_response(predicted_sentiment)}\")"
      ],
      "metadata": {
        "id": "1pkv1uH9g0gM",
        "colab": {
          "base_uri": "https://localhost:8080/"
        },
        "outputId": "e1d246ad-ccfd-479e-d796-acfd74cbaa16"
      },
      "execution_count": null,
      "outputs": [
        {
          "output_type": "stream",
          "name": "stdout",
          "text": [
            "You: My  friend is Crying\n",
            "Chatbot: Based on my sentiment analysis, your sentiment is negative.\n",
            "Chatbot: My classification thinks you're feeling negative.\n",
            "Chatbot: I'm sorry to hear that. Is there anything I can do to help? Here are some suggestions for you to feel better:\n",
            "Consider talking to a friend or loved one about it.\n",
            "You: end\n",
            "Chatbot: Thank you😊\n"
          ]
        }
      ]
    }
  ]
}